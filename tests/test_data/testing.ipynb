{
 "cells": [
  {
   "cell_type": "code",
   "execution_count": 1,
   "id": "cc705b78-6045-4794-92b0-56b59e462f53",
   "metadata": {},
   "outputs": [],
   "source": [
    "import pandas as pd\n",
    "import numpy as np"
   ]
  },
  {
   "cell_type": "code",
   "execution_count": 2,
   "id": "5b609ff3-3691-4f70-827e-1651b604086c",
   "metadata": {},
   "outputs": [],
   "source": [
    "df = pd.read_csv(\"mock_data.tsv\", sep=\"\\t\", header=4)"
   ]
  },
  {
   "cell_type": "code",
   "execution_count": 3,
   "id": "c4dc6eb3-0ca9-4e8d-941c-ab0f1fe816dc",
   "metadata": {},
   "outputs": [],
   "source": [
    "df = df[[\"#clade_name\", \"NCBI_tax_id\", \"relative_abundance\", \"#clade_name\"]]"
   ]
  },
  {
   "cell_type": "code",
   "execution_count": 4,
   "id": "87ea5b6d-d55d-4c4a-9b20-f8790e7ba90d",
   "metadata": {},
   "outputs": [],
   "source": [
    "df = df.rename(columns={'#clade_name': 'clade_name'})"
   ]
  },
  {
   "cell_type": "code",
   "execution_count": 5,
   "id": "adf075ad-e25b-48da-83c8-ed8d89918f5f",
   "metadata": {},
   "outputs": [],
   "source": [
    "df.columns = [\"clade_name\", \"NCBI_tax_id\", \"relative_abundance\", \"OTU\"]"
   ]
  },
  {
   "cell_type": "code",
   "execution_count": 6,
   "id": "9bdf50e8-d008-4b9f-b5eb-355b8fc0abd2",
   "metadata": {},
   "outputs": [],
   "source": [
    "df = df[df['clade_name'].str.contains('s__', na=False)]"
   ]
  },
  {
   "cell_type": "code",
   "execution_count": 7,
   "id": "3b0fca8d-ac9a-4658-ae3a-8e58faea7050",
   "metadata": {},
   "outputs": [],
   "source": [
    "df = df[~df['clade_name'].str.contains('t__', na=False)]"
   ]
  },
  {
   "cell_type": "code",
   "execution_count": 8,
   "id": "4b32be79-0b9d-4996-95d2-fa23ba9ac3ee",
   "metadata": {},
   "outputs": [],
   "source": [
    "df['clade_name'] = df['clade_name'].str.replace(r'^.*s__', '', regex=True)"
   ]
  },
  {
   "cell_type": "code",
   "execution_count": 9,
   "id": "a73c0dbc-d1d4-4bb6-8dc7-3841d5ff65eb",
   "metadata": {},
   "outputs": [],
   "source": [
    "df['clade_name'] = df['clade_name'].str.replace('_', ' ')"
   ]
  },
  {
   "cell_type": "code",
   "execution_count": 10,
   "id": "6818879c-e106-4a72-bc74-057ccb466cde",
   "metadata": {},
   "outputs": [],
   "source": [
    "df['NCBI_tax_id'] = df['NCBI_tax_id'].apply(lambda x: np.nan if x.endswith('|') else x.split('|')[-1])"
   ]
  },
  {
   "cell_type": "code",
   "execution_count": 11,
   "id": "b2976c33-61ae-4579-8829-e052438000ad",
   "metadata": {},
   "outputs": [
    {
     "data": {
      "text/html": [
       "<div>\n",
       "<style scoped>\n",
       "    .dataframe tbody tr th:only-of-type {\n",
       "        vertical-align: middle;\n",
       "    }\n",
       "\n",
       "    .dataframe tbody tr th {\n",
       "        vertical-align: top;\n",
       "    }\n",
       "\n",
       "    .dataframe thead th {\n",
       "        text-align: right;\n",
       "    }\n",
       "</style>\n",
       "<table border=\"1\" class=\"dataframe\">\n",
       "  <thead>\n",
       "    <tr style=\"text-align: right;\">\n",
       "      <th></th>\n",
       "      <th>clade_name</th>\n",
       "      <th>NCBI_tax_id</th>\n",
       "      <th>relative_abundance</th>\n",
       "      <th>OTU</th>\n",
       "    </tr>\n",
       "  </thead>\n",
       "  <tbody>\n",
       "    <tr>\n",
       "      <th>377</th>\n",
       "      <td>Prevotella copri clade A</td>\n",
       "      <td>165179</td>\n",
       "      <td>19.96533</td>\n",
       "      <td>k__Bacteria|p__Bacteroidetes|c__Bacteroidia|o_...</td>\n",
       "    </tr>\n",
       "    <tr>\n",
       "      <th>378</th>\n",
       "      <td>Prevotella copri clade B</td>\n",
       "      <td>165179</td>\n",
       "      <td>14.18688</td>\n",
       "      <td>k__Bacteria|p__Bacteroidetes|c__Bacteroidia|o_...</td>\n",
       "    </tr>\n",
       "    <tr>\n",
       "      <th>379</th>\n",
       "      <td>GGB1495 SGB2071</td>\n",
       "      <td>NaN</td>\n",
       "      <td>6.88022</td>\n",
       "      <td>k__Bacteria|p__Bacteroidetes|c__CFGB629|o__OFG...</td>\n",
       "    </tr>\n",
       "    <tr>\n",
       "      <th>380</th>\n",
       "      <td>GGB9059 SGB13976</td>\n",
       "      <td>NaN</td>\n",
       "      <td>6.76693</td>\n",
       "      <td>k__Bacteria|p__Firmicutes|c__CFGB73062|o__OFGB...</td>\n",
       "    </tr>\n",
       "    <tr>\n",
       "      <th>381</th>\n",
       "      <td>GGB4669 SGB6458</td>\n",
       "      <td>NaN</td>\n",
       "      <td>3.10501</td>\n",
       "      <td>k__Bacteria|p__Firmicutes|c__CFGB10325|o__OFGB...</td>\n",
       "    </tr>\n",
       "    <tr>\n",
       "      <th>...</th>\n",
       "      <td>...</td>\n",
       "      <td>...</td>\n",
       "      <td>...</td>\n",
       "      <td>...</td>\n",
       "    </tr>\n",
       "    <tr>\n",
       "      <th>609</th>\n",
       "      <td>GGB4723 SGB6540</td>\n",
       "      <td>NaN</td>\n",
       "      <td>0.00073</td>\n",
       "      <td>k__Bacteria|p__Firmicutes|c__Bacilli|o__Lactob...</td>\n",
       "    </tr>\n",
       "    <tr>\n",
       "      <th>610</th>\n",
       "      <td>Sanguibacter SGB15121</td>\n",
       "      <td>NaN</td>\n",
       "      <td>0.00047</td>\n",
       "      <td>k__Bacteria|p__Actinobacteria|c__Actinomycetia...</td>\n",
       "    </tr>\n",
       "    <tr>\n",
       "      <th>611</th>\n",
       "      <td>GGB36267 SGB14177</td>\n",
       "      <td>NaN</td>\n",
       "      <td>0.00042</td>\n",
       "      <td>k__Bacteria|p__Firmicutes|c__CFGB2915|o__OFGB2...</td>\n",
       "    </tr>\n",
       "    <tr>\n",
       "      <th>612</th>\n",
       "      <td>GGB9110 SGB14043</td>\n",
       "      <td>NaN</td>\n",
       "      <td>0.00039</td>\n",
       "      <td>k__Bacteria|p__Firmicutes|c__CFGB2844|o__OFGB2...</td>\n",
       "    </tr>\n",
       "    <tr>\n",
       "      <th>613</th>\n",
       "      <td>Bifidobacterium bifidum</td>\n",
       "      <td>1681</td>\n",
       "      <td>0.00038</td>\n",
       "      <td>k__Bacteria|p__Actinobacteria|c__Actinomycetia...</td>\n",
       "    </tr>\n",
       "  </tbody>\n",
       "</table>\n",
       "<p>237 rows × 4 columns</p>\n",
       "</div>"
      ],
      "text/plain": [
       "                   clade_name NCBI_tax_id  relative_abundance  \\\n",
       "377  Prevotella copri clade A      165179            19.96533   \n",
       "378  Prevotella copri clade B      165179            14.18688   \n",
       "379           GGB1495 SGB2071         NaN             6.88022   \n",
       "380          GGB9059 SGB13976         NaN             6.76693   \n",
       "381           GGB4669 SGB6458         NaN             3.10501   \n",
       "..                        ...         ...                 ...   \n",
       "609           GGB4723 SGB6540         NaN             0.00073   \n",
       "610     Sanguibacter SGB15121         NaN             0.00047   \n",
       "611         GGB36267 SGB14177         NaN             0.00042   \n",
       "612          GGB9110 SGB14043         NaN             0.00039   \n",
       "613   Bifidobacterium bifidum        1681             0.00038   \n",
       "\n",
       "                                                   OTU  \n",
       "377  k__Bacteria|p__Bacteroidetes|c__Bacteroidia|o_...  \n",
       "378  k__Bacteria|p__Bacteroidetes|c__Bacteroidia|o_...  \n",
       "379  k__Bacteria|p__Bacteroidetes|c__CFGB629|o__OFG...  \n",
       "380  k__Bacteria|p__Firmicutes|c__CFGB73062|o__OFGB...  \n",
       "381  k__Bacteria|p__Firmicutes|c__CFGB10325|o__OFGB...  \n",
       "..                                                 ...  \n",
       "609  k__Bacteria|p__Firmicutes|c__Bacilli|o__Lactob...  \n",
       "610  k__Bacteria|p__Actinobacteria|c__Actinomycetia...  \n",
       "611  k__Bacteria|p__Firmicutes|c__CFGB2915|o__OFGB2...  \n",
       "612  k__Bacteria|p__Firmicutes|c__CFGB2844|o__OFGB2...  \n",
       "613  k__Bacteria|p__Actinobacteria|c__Actinomycetia...  \n",
       "\n",
       "[237 rows x 4 columns]"
      ]
     },
     "execution_count": 11,
     "metadata": {},
     "output_type": "execute_result"
    }
   ],
   "source": [
    "df"
   ]
  }
 ],
 "metadata": {
  "kernelspec": {
   "display_name": "Python 3 (ipykernel)",
   "language": "python",
   "name": "python3"
  },
  "language_info": {
   "codemirror_mode": {
    "name": "ipython",
    "version": 3
   },
   "file_extension": ".py",
   "mimetype": "text/x-python",
   "name": "python",
   "nbconvert_exporter": "python",
   "pygments_lexer": "ipython3",
   "version": "3.12.2"
  }
 },
 "nbformat": 4,
 "nbformat_minor": 5
}
